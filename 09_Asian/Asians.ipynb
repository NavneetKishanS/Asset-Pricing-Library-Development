{
 "cells": [
  {
   "cell_type": "markdown",
   "id": "c5ac3ff5",
   "metadata": {
    "slideshow": {
     "slide_type": "slide"
    },
    "tags": []
   },
   "source": [
    "<h4><center> Introduction to building a quant pricing library practice\n",
    " </center></h4>\n",
    "\n",
    "<h1><center> Pricing Asian Options </center></h1>\n",
    "\n",
    "<h4><center>\n",
    "<h3><center> Varga László </center></h3> <br /> \n",
    "</center></h4>\n",
    "     \n",
    "<h4><center> <a href=\"mailto:vargala4@gmail.com\">vargala4@gmail.com</a>  </center></h4>    \n",
    "\n",
    "\n"
   ]
  },
  {
   "cell_type": "markdown",
   "id": "b02288de",
   "metadata": {
    "slideshow": {
     "slide_type": "slide"
    },
    "tags": []
   },
   "source": [
    "<h3><center> Introduction - Asian options </center></h3>\n",
    "\n",
    "- Derivative contracts written on an average price\n",
    "- Average price: arithmetic or geometric\n",
    "- Exercise is usually European style\n",
    "- First appearance: 1987 Tokyo"
   ]
  },
  {
   "cell_type": "markdown",
   "id": "71f84b26",
   "metadata": {
    "slideshow": {
     "slide_type": "fragment"
    },
    "tags": []
   },
   "source": [
    "- Advantages:\n",
    "    - smooths volatile market movements\n",
    "    - excellent hedging tool when the market participants are exposed to average prices - popular in commodity markets\n"
   ]
  },
  {
   "cell_type": "markdown",
   "id": "ecd94124",
   "metadata": {
    "slideshow": {
     "slide_type": "subslide"
    }
   },
   "source": [
    "- Example of an Asian option:\n",
    "    - Call option on \n",
    "    - a WTI (West Texas international, oil underlying) contract \n",
    "    - with 1000 bbl (barrel) notional, \n",
    "    - option excercise date 2025 January 31, \n",
    "    - 2025 February 5 delivery, \n",
    "    - strike 85 \\$/bbl. \n",
    "    - The option is based on the daily average prices in 2025 January."
   ]
  },
  {
   "cell_type": "markdown",
   "id": "37c9bf10",
   "metadata": {
    "slideshow": {
     "slide_type": "subslide"
    },
    "tags": []
   },
   "source": [
    "- Pricing methods:\n",
    "    - exact calculation: not always possible or extremely computing intensive\n",
    "    - Monte Carlo simulation\n",
    "    - numerical solution of the pricing PDE\n",
    "    - **moment matching** - most popular\n",
    "    - upper/lower price bounds\n",
    "    - transformations (Laplace)\n"
   ]
  },
  {
   "cell_type": "markdown",
   "id": "49658e00",
   "metadata": {
    "slideshow": {
     "slide_type": "slide"
    }
   },
   "source": [
    "<h3><center> Mathematical notations </center></h3>\n",
    "\n",
    "- $(S_t)_{t\\in [0,T]}$: asset price process\n",
    "- $S_0$: initial price\n",
    "- $T$: exercise date\n",
    "- $K$: strike\n",
    "- $\\{ t_1,\\ldots,t_n \\}$: fix observation times, $0\\leq t_1 \\leq \\ldots \\leq t_n \\leq T$ on which we take the average of the asset price\n",
    "- $A_T$: average of the underlying asset prices in time interval $[0,T]$\n",
    "- $x_+=max(x,0)$: positive value of $x$"
   ]
  },
  {
   "cell_type": "markdown",
   "id": "0ec24085",
   "metadata": {
    "slideshow": {
     "slide_type": "subslide"
    }
   },
   "source": [
    "<h3><center> Types of Asian options </center></h3>\n",
    "\n",
    "- Call or Put\n",
    "- Strike style\n",
    "    - **Fixed strike**: Payoff of call option$=(A_T-K)_+$\n",
    "    - Floating strike: Payoff of call option$=(S_T - A_T)_+$\n",
    "    \n"
   ]
  },
  {
   "cell_type": "markdown",
   "id": "a2e6a3d7",
   "metadata": {
    "slideshow": {
     "slide_type": "subslide"
    }
   },
   "source": [
    "- Averaging type and Monitoring frequency\n",
    "\n",
    "**Averaging type $\\quad$  Continuously monitored $\\qquad \\qquad \\ $ Discretely monitored**                                                    \n",
    "Geometric    $\\qquad$    $\\left(exp\\left\\{ \\frac{1}{T}\\int\\limits_0^T \\log S_t \\,dt \\right\\} -K \\right)_+$    $\\quad$      $\\left(  \\left( \\prod\\limits_{i=1}^n S_{t_i} \\right)^{1/n} -K \\right)_+ $\n",
    "\n",
    "Arithmetic  $\\qquad \\qquad$  $\\left( \\frac{1}{T}\\int\\limits_0^T S_t\\, dt-K \\right)_+$ $\\qquad \\qquad \\quad$ $\\color{blue}{\\left( \\frac{1}{n} \\sum\\limits_{i=1}^n S_{t_i} -K \\right)_+} $\n",
    "\n"
   ]
  },
  {
   "cell_type": "markdown",
   "id": "afc9fcda",
   "metadata": {
    "slideshow": {
     "slide_type": "slide"
    }
   },
   "source": [
    "<h3><center> Pricing of Asian options </center></h3>\n",
    "\n",
    "- Price (PV) of a Call Asian option at time $t=0: \\quad e^{-rT}E_*\\left[ (A_T-K)_+ \\right]$\n",
    "- There is no closed formula for the price, as $A_T$ is the arithmetical average of lognormal random variables, which is (usually) not lognormally distributed\n"
   ]
  },
  {
   "cell_type": "markdown",
   "id": "0264f898",
   "metadata": {
    "slideshow": {
     "slide_type": "fragment"
    }
   },
   "source": [
    "- Why is it so hard to calculate?"
   ]
  },
  {
   "cell_type": "markdown",
   "id": "8451e56a",
   "metadata": {
    "slideshow": {
     "slide_type": "fragment"
    }
   },
   "source": [
    "- Because we have to calculate a multiple integral with $n$ variables which is the following in case $S_t$ is the GBM process with parameters $\\mu$ and $\\nu$:\n",
    "\n",
    "$E_*\\left[ (A_T-K)_+ \\right] =  $\n",
    "\n",
    "$\\ =\\scriptsize \\int\\limits_{-\\infty}^{\\infty}\\cdots \\int\\limits_{-\\infty}^{\\infty}\n",
    "\\left[ \\frac{S_0}{n}\n",
    "\\left( e^{\\left(\\mu- \\frac{\\nu^2}{2} \\right)t_1+\\nu W_{t_1}}+\\ldots+e^{\\left(\\mu- \\frac{\\nu^2}{2} \\right)t_n+\\nu W_{t_n}} \\right) \n",
    "-K \\right]_+ f_{(W_{t_1},\\ldots,W_{t_n})}(x_1,\\ldots,x_n)dx_1\\ldots dx_n$"
   ]
  },
  {
   "cell_type": "markdown",
   "id": "d557aa48",
   "metadata": {
    "slideshow": {
     "slide_type": "subslide"
    }
   },
   "source": [
    "<h3><center> Pricing by moment matching </center></h3>\n",
    "\n",
    "- First proposed by Edmond Levy for Asian options\n",
    "- Let us assume that $S_t$ is the GBM process, i.e. $\\frac{S_t}{S_0}$ is lognormally distributed\n",
    "- We approximate $A_T$ by a properly scaled and parametrized lognormal random variable $U$\n",
    "- The lognormal distribution is determined by its first two moments, therefore we match the first two moments of $A_T$ and $U$\n"
   ]
  },
  {
   "cell_type": "markdown",
   "id": "5ffec858",
   "metadata": {
    "slideshow": {
     "slide_type": "subslide"
    }
   },
   "source": [
    "First and second moments of $A_T$ are\n",
    "- $ E \\left(A_T \\right) =  \\frac{S_0}{n}\\sum\\limits_{i=1}^{n}\\exp\\left\\{rt_i\\right\\}$\n",
    "- $ E \\left( A_T^2 \\right) =  \\frac{S^2_0}{n^2}\\sum\\limits_{i,j=1}^{n}\\exp\\left\\{r(t_i+t_j) + \\sigma^2\\min(t_i, t_j)\\right\\}$"
   ]
  },
  {
   "cell_type": "markdown",
   "id": "af46f633",
   "metadata": {
    "slideshow": {
     "slide_type": "fragment"
    }
   },
   "source": [
    "$\\hspace{-5mm}$\n",
    "If $\\frac{U}{S_0}$ is lognormal with parameters $m$ and $\\sigma$, then the first two moments of $U$ are \n",
    "\n",
    "$\\quad EU = S_0\\exp\\left\\{m+\\frac{\\sigma^2}{2} \\right\\} \\quad $ and \n",
    "$\\quad E U^2 = S_0^2 \\exp\\left\\{2m+2\\sigma^2 \\right\\}$"
   ]
  },
  {
   "cell_type": "markdown",
   "id": "7897337b",
   "metadata": {
    "slideshow": {
     "slide_type": "subslide"
    }
   },
   "source": [
    "Matching the first two moments and solving the system of equations:\n",
    "- $m = 2\\, \\text{log} \\left( \\frac{E\\left(A_T\\right)}{S_0} \\right)- \\frac{1}{2} \\, \\text{log} \\left( \\frac{E\\left(A_T^2\\right)}{S_0^2} \\right)$ \n",
    "- $\\sigma^2 = \\text{log} \\left( \\frac{E\\left(A_T^2\\right)}{S_0^2} \\right) - 2 \\text{log} \\left( \\frac{E\\left(A_T\\right)}{S_0} \\right)$"
   ]
  },
  {
   "cell_type": "markdown",
   "id": "05930217",
   "metadata": {
    "slideshow": {
     "slide_type": "subslide"
    }
   },
   "source": [
    "Finally we can approximate the PV of the Call Asian option at time $t=0$:\n",
    "\n",
    "$e^{-rT}E_*\\left[ (A_T-K)_+ \\right] \\approx$\n",
    "$e^{-rT}E_*\\left[ (U-K)_+\\right] = e^{-rT}E_*\\left[ (S_0e^{m+\\sigma N(0,1^2)}-K)_+\\right]$\n"
   ]
  },
  {
   "cell_type": "markdown",
   "id": "1b13c3cb",
   "metadata": {
    "slideshow": {
     "slide_type": "fragment"
    }
   },
   "source": [
    "The calculation leads to a very similar integral which we calculated when deriving the Black-Scholes formula:\n",
    "\n",
    "$E_*\\left[ (U-K)_+\\right] = \\int\\limits_{-\\infty}^{\\infty} (S_0e^{m+\\sigma x}-K)_+ \\cdot \\frac{1}{\\sqrt{2\\pi}}e^{-x^2/2}\\, dx$\n",
    "\n",
    "$= S_0 \\int\\limits_{\\frac{1}{\\sigma}\\left[ log\\left( \\frac{K}{S_0}\\right)-m\\right]}^{\\infty} e^{m+\\sigma x} \\frac{1}{\\sqrt{2\\pi}}e^{-x^2/2}\\, dx \\quad + \\quad \n",
    "K  \\int\\limits_{\\frac{1}{\\sigma}\\left[ log\\left( \\frac{K}{S_0}\\right)-m\\right]}^{\\infty}  \\frac{1}{\\sqrt{2\\pi}}e^{-x^2/2}\\, dx$\n",
    "\n",
    "\n",
    "    "
   ]
  },
  {
   "cell_type": "markdown",
   "id": "10030ec1",
   "metadata": {
    "slideshow": {
     "slide_type": "subslide"
    }
   },
   "source": [
    "To calculate the first integral, the key idea is to observe that the integrand is the density function of $N(\\sigma, 1^2)$:\n",
    "\n",
    "$e^{m+\\sigma x} \\frac{1}{\\sqrt{2\\pi}}e^{-x^2/2} = e^{m+\\sigma^2/2}\\cdot \\frac{1}{\\sqrt{2\\pi}} e^{-\\frac{1}{2}(x-\\sigma)^2}$\n"
   ]
  },
  {
   "cell_type": "markdown",
   "id": "6bb824f0",
   "metadata": {
    "slideshow": {
     "slide_type": "fragment"
    }
   },
   "source": [
    "$E_*\\left[ (U-K)_+\\right] = S_0 e^{m+\\sigma x}P\\left(N(\\sigma,1^2)>\\frac{1}{\\sigma}\\left[ log\\left( \\frac{K}{S_0}\\right)-m\\right]\\right) + $\n",
    "\n",
    "$\\qquad \\qquad \\qquad + P\\left(N(0,1^2)> \\frac{1}{\\sigma}\\left[ log\\left( \\frac{K}{S_0}\\right)-m\\right] \\right)$"
   ]
  },
  {
   "cell_type": "markdown",
   "id": "74edb1e1",
   "metadata": {
    "slideshow": {
     "slide_type": "subslide"
    }
   },
   "source": [
    "Finishing off the calculations, we get the moment matching approximation price of a Call Asian option:\n",
    "\n",
    "$\\hspace{30mm} e^{-rT}\\left(S_0 e^{m+\\frac{\\sigma^2}{2}} \\Phi\\left(d_1\\right)-K \\Phi\\left(d_2\\right)\\right)$, where\n",
    "\n",
    "- $d_1=\\frac{\\log \\left(\\frac{S_0}{K}\\right)+m+\\sigma^2}{\\sigma}$\n",
    "- $d_2=d_1-\\sigma$ \n",
    "    "
   ]
  },
  {
   "cell_type": "markdown",
   "id": "a990e74b",
   "metadata": {
    "slideshow": {
     "slide_type": "slide"
    }
   },
   "source": [
    "When do we consider the price derived by the moment matching approximation appropriate?"
   ]
  },
  {
   "cell_type": "markdown",
   "id": "96ec76a7",
   "metadata": {
    "slideshow": {
     "slide_type": "fragment"
    }
   },
   "source": [
    "If the moment matching price $P_{MM}$ lies within the $95\\%$ confidence interval of the Monte Carlo simulation price $P_{MC}$:\n",
    "\n",
    "$P_{MM} \\in \\left[ P_{MC}-1.96\\cdot sd(P_{MC}), P_{MC}+1.96\\cdot sd(P_{MC}) \\right]$"
   ]
  },
  {
   "cell_type": "markdown",
   "id": "bd5d9afa",
   "metadata": {
    "slideshow": {
     "slide_type": "fragment"
    }
   },
   "source": [
    "or equivalently, for the standardized difference \n",
    "\n",
    "$\\frac{P_{MM}-P_{MC}}{sd(P_{MC})} \\in \\left[ -1.96, +1.96 \\right]$"
   ]
  },
  {
   "cell_type": "markdown",
   "id": "bfd4abe7",
   "metadata": {
    "slideshow": {
     "slide_type": "slide"
    }
   },
   "source": [
    "<h3><center> Exercises </center></h3>\n",
    "\n",
    "1. Check the Asian pricer in the codebase and calculate the price of an Asian option and the Greeks.\n",
    "\n",
    "2. Compare the moment matching approach with Monte Carlo pricing for moneyness values 0.7, 0.8, 0.9, 1, 1.1, 1.2 and 1.3, where **moneyness** is $\\frac{K}{S_0}$.\n",
    "\n"
   ]
  },
  {
   "cell_type": "code",
   "execution_count": 1,
   "id": "9a9757f7",
   "metadata": {
    "slideshow": {
     "slide_type": ""
    },
    "tags": []
   },
   "outputs": [],
   "source": [
    "import sys\n",
    "from pathlib import Path\n",
    "import numpy as np\n",
    "import matplotlib.pyplot as plt\n",
    "\n",
    "current = Path().resolve()\n",
    "sys.path.append(str(current))\n",
    "sys.path.append(str(current.parents[1]))\n",
    "\n",
    "from src.enums import *\n",
    "from src.utils import *\n",
    "from src.market_data import *\n",
    "from src.pricer import *\n",
    "# Make charts interactive\n",
    "# %matplotlib notebook\n",
    "\n",
    "# Initialize market data\n",
    "MarketData.initialize()"
   ]
  },
  {
   "cell_type": "code",
   "execution_count": null,
   "id": "0bbd702a",
   "metadata": {
    "slideshow": {
     "slide_type": ""
    },
    "tags": []
   },
   "outputs": [],
   "source": [
    "# Solution of Exercise 1. - working together on the lecture, for solution see the Asians_solution notebook"
   ]
  },
  {
   "cell_type": "code",
   "execution_count": null,
   "id": "480f019a-a8dc-436e-af2b-6bb1ccc7a789",
   "metadata": {},
   "outputs": [],
   "source": []
  },
  {
   "cell_type": "code",
   "execution_count": null,
   "id": "b1259535-aa66-404e-bf1e-79cf47d9675a",
   "metadata": {},
   "outputs": [],
   "source": []
  },
  {
   "cell_type": "code",
   "execution_count": null,
   "id": "c93c7526-570e-40a2-a8d7-4b379527aba8",
   "metadata": {},
   "outputs": [],
   "source": []
  },
  {
   "cell_type": "code",
   "execution_count": null,
   "id": "22597223-04cf-4f1b-933a-6ff411fbc765",
   "metadata": {},
   "outputs": [],
   "source": []
  },
  {
   "cell_type": "code",
   "execution_count": null,
   "id": "c43ea791-2ddd-4f99-921e-76c66f3d17f9",
   "metadata": {},
   "outputs": [],
   "source": []
  },
  {
   "cell_type": "code",
   "execution_count": null,
   "id": "b064122b-011c-436f-8672-acd276238461",
   "metadata": {},
   "outputs": [],
   "source": []
  },
  {
   "cell_type": "code",
   "execution_count": null,
   "id": "6d5bd74a-15ae-459b-979e-4083a11a526e",
   "metadata": {},
   "outputs": [],
   "source": []
  },
  {
   "cell_type": "code",
   "execution_count": null,
   "id": "6a30e777-4598-4ffb-a8fd-50bb46175a01",
   "metadata": {},
   "outputs": [],
   "source": []
  },
  {
   "cell_type": "code",
   "execution_count": null,
   "id": "c4209042-0bc4-4852-9476-d7b60a3cb6e8",
   "metadata": {},
   "outputs": [],
   "source": []
  },
  {
   "cell_type": "code",
   "execution_count": 27,
   "id": "56b6fd38",
   "metadata": {},
   "outputs": [],
   "source": [
    "# Solution of Exercise 2.\n",
    "\n",
    "moneyness_list = [i/10 for i in range(7,14)]\n",
    "strike_list = [spot * moneyness for moneyness in moneyness_list]\n",
    "contract_list = [AsianContract(und, PutCallFwd.CALL, LongShort.LONG, strike, exp, num_mon) \n",
    "                 for strike in strike_list]\n",
    "\n",
    "price_MM_list = [AsianMomentMatchingPricer(contract, model, params).calc_fair_value() for contract in contract_list]\n",
    "price_MC_list = [GenericMCPricer(contract, model, params_MC).calc_fair_value_with_ci() for contract in contract_list]"
   ]
  },
  {
   "cell_type": "code",
   "execution_count": 28,
   "id": "f5754292-752d-49e5-9179-d78a4188a30a",
   "metadata": {},
   "outputs": [
    {
     "data": {
      "text/plain": [
       "[0.3, 0.3, 0.3, 0.3, 0.3, 0.3, 0.3]"
      ]
     },
     "execution_count": 28,
     "metadata": {},
     "output_type": "execute_result"
    }
   ],
   "source": [
    "[model.get_vol(strk, exp) for strk in strike_list]   # check whether vol is the same for each moneyness"
   ]
  },
  {
   "cell_type": "code",
   "execution_count": 29,
   "id": "f65910be",
   "metadata": {},
   "outputs": [
    {
     "data": {
      "image/png": "[encoded data removed]",
      "text/plain": [
       "<Figure size 640x480 with 1 Axes>"
      ]
     },
     "metadata": {},
     "output_type": "display_data"
    }
   ],
   "source": [
    "plt.figure(0)\n",
    "plt.plot(moneyness_list, price_MM_list, label=\"Price_MM\")\n",
    "plt.plot(moneyness_list, [val[0] for val in price_MC_list], label=\"Price_MC\")\n",
    "plt.plot(moneyness_list, [val[1][0] for val in price_MC_list], ':', color=\"r\", label=\"95% confidence interval\")\n",
    "plt.plot(moneyness_list, [val[1][1] for val in price_MC_list], ':', color=\"r\")\n",
    "plt.xlabel('Moneyness')\n",
    "plt.ylabel('Price')\n",
    "plt.legend()\n",
    "plt.show()"
   ]
  },
  {
   "cell_type": "code",
   "execution_count": 30,
   "id": "1aa846a2",
   "metadata": {},
   "outputs": [
    {
     "data": {
      "image/png": "[encoded data removed]",
      "text/plain": [
       "<Figure size 640x480 with 1 Axes>"
      ]
     },
     "metadata": {},
     "output_type": "display_data"
    }
   ],
   "source": [
    "sd_MC_list = [(val[0]-val[1][0])/1.96 for val in price_MC_list]\n",
    "\n",
    "plt.figure(1)\n",
    "plt.plot(moneyness_list, [(pr_MM - price_MC_list[i][0])/sd_MC_list[i] for i, pr_MM in enumerate(price_MM_list)], \n",
    "         label=\"Standardized difference\")\n",
    "plt.plot(moneyness_list, [-2 for _ in moneyness_list], ':', color=\"r\", label=\"95% confidence interval\")\n",
    "plt.plot(moneyness_list, [2 for _ in moneyness_list], ':', color=\"r\")\n",
    "plt.ylim(-2.1, 2.1)\n",
    "plt.xlabel('Moneyness')\n",
    "plt.ylabel('Standardized difference')\n",
    "plt.legend()\n",
    "plt.show()"
   ]
  },
  {
   "cell_type": "markdown",
   "id": "2443e8e8",
   "metadata": {
    "slideshow": {
     "slide_type": "slide"
    }
   },
   "source": [
    "<h3><center> Assignment </center></h3>\n",
    "\n",
    "Testing the Asian option pricer (6+7+7= 20p)\n",
    "\n",
    "    a.) Show by simulation and a graph that for increasing volatility, the effectiveness of the moment matching approximation deteriorates.\n",
    "    \n",
    "    b.) What would you expect about the effectiveness of the moment matching method, if the length of the averaging period tends to infinity? Create a test to assess it. (Hint: think on a famous theorem in probability theory.)\n",
    "    \n",
    "    c.) Devise and implement a proper unit test for the moment matching Asian option pricer."
   ]
  },
  {
   "cell_type": "markdown",
   "id": "9419f0a0",
   "metadata": {
    "slideshow": {
     "slide_type": "slide"
    }
   },
   "source": [
    "<h3><center> Conclusions </center></h3>\n",
    "\n",
    "Experience with the moment matching technique\n",
    "- Fast calculations\n",
    "- The approximation is very good for short averaging periods\n",
    "- The approximation gets worse if volatility is large and the averaging period is long\n",
    "- Risks are stable even under severely stressed conditions"
   ]
  },
  {
   "cell_type": "markdown",
   "id": "d5ec90e2",
   "metadata": {
    "slideshow": {
     "slide_type": "slide"
    }
   },
   "source": [
    "<h3><center> References </center></h3>\n",
    "\n",
    "- Pak Keung Chan: Pricing Asian Options by the Method of Moments Matching. Master Thesis, University of Waterloo, Ontario, Canada, 2015\n",
    "- Edmond Levy: Pricing european average rate currency options. Vol. 11, No 5. (1992), pp. 474–491, *Journal of International Money and Finance*\n",
    "- Stuart M. Turnbull and Lee MacDonald Wakeman: A Quick Algorithm for Pricing European Average Options. The Journal of Financial and Quantitative Analysis. Vol. 26, No. 3 (Sep., 1991), pp. 377-389, *Cambridge University Press*\n"
   ]
  }
 ],
 "metadata": {
  "celltoolbar": "Slideshow",
  "kernelspec": {
   "display_name": "Python 3 (ipykernel)",
   "language": "python",
   "name": "python3"
  },
  "language_info": {
   "codemirror_mode": {
    "name": "ipython",
    "version": 3
   },
   "file_extension": ".py",
   "mimetype": "text/x-python",
   "name": "python",
   "nbconvert_exporter": "python",
   "pygments_lexer": "ipython3",
   "version": "3.12.0"
  }
 },
 "nbformat": 4,
 "nbformat_minor": 5
}
