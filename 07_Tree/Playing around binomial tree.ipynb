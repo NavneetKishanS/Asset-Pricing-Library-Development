{
 "cells": [
  {
   "cell_type": "code",
   "execution_count": null,
   "id": "4c26eaa4",
   "metadata": {},
   "outputs": [],
   "source": [
    "import sys, os\n",
    "sys.path.append(os.path.dirname(os.path.dirname(os.path.dirname(os.path.realpath('__file__')))))\n",
    "from src.pricer import *"
   ]
  },
  {
   "cell_type": "markdown",
   "id": "ff5afd7e",
   "metadata": {},
   "source": [
    "# European Tree"
   ]
  },
  {
   "cell_type": "code",
   "execution_count": null,
   "id": "17aad77d",
   "metadata": {},
   "outputs": [],
   "source": [
    "# Create European contract\n",
    "\n",
    "MarketData.initialize()\n",
    "und = Stock.TEST_COMPANY\n",
    "expiry = 1.0\n",
    "strike = 1.0 * MarketData.get_spot()[und]\n",
    "europeanContract = EuropeanContract(und, PutCallFwd.CALL, LongShort.LONG, strike, expiry)"
   ]
  },
  {
   "cell_type": "code",
   "execution_count": null,
   "id": "f901ad6b",
   "metadata": {},
   "outputs": [],
   "source": [
    "# Create European Tree pricer\n",
    "\n",
    "params = TreeParams(2)\n",
    "model = FlatVolModel(und)\n",
    "europeanPricer = EuropeanTreePricer(europeanContract, model, params)"
   ]
  },
  {
   "cell_type": "code",
   "execution_count": null,
   "id": "a888416e",
   "metadata": {},
   "outputs": [],
   "source": [
    "europeanPricer.calc_fair_value()"
   ]
  },
  {
   "cell_type": "code",
   "execution_count": null,
   "id": "668bc4d5",
   "metadata": {},
   "outputs": [],
   "source": [
    "# European Analytic pricer\n",
    "\n",
    "analyticPricer = EuropeanAnalyticPricer(europeanContract, model, Params())\n",
    "analyticPricer.calc_fair_value()"
   ]
  },
  {
   "cell_type": "markdown",
   "id": "c5b0e898",
   "metadata": {},
   "source": [
    "### Tree price != Analytic price, is it a bug?"
   ]
  },
  {
   "cell_type": "code",
   "execution_count": null,
   "id": "bc561b45",
   "metadata": {},
   "outputs": [],
   "source": [
    "params100 = TreeParams(100)\n",
    "europeanPricer100 = EuropeanTreePricer(europeanContract, model, params100)\n",
    "europeanPricer100.calc_fair_value()"
   ]
  },
  {
   "cell_type": "code",
   "execution_count": null,
   "id": "ba19402e",
   "metadata": {},
   "outputs": [],
   "source": [
    "# Calibrating European Tree\n",
    "\n",
    "paramsCalib = TreeParams(2,0.2)\n",
    "europeanPricerCalib = EuropeanTreePricer(europeanContract, model, paramsCalib)\n",
    "europeanPricerCalib.calc_fair_value()"
   ]
  },
  {
   "cell_type": "markdown",
   "id": "e2724cf1",
   "metadata": {},
   "source": [
    "# American Tree"
   ]
  },
  {
   "cell_type": "code",
   "execution_count": null,
   "id": "29038965",
   "metadata": {},
   "outputs": [],
   "source": [
    "# American contract and Tree pricer\n",
    "\n",
    "americanContract = AmericanContract(und, PutCallFwd.CALL, LongShort.LONG, strike, expiry)\n",
    "amPricer = AmericanTreePricer(americanContract, model, params)\n",
    "amPricer.calc_fair_value()"
   ]
  },
  {
   "cell_type": "markdown",
   "id": "034745f4",
   "metadata": {},
   "source": [
    "### American call price = European call price, is it a bug?"
   ]
  },
  {
   "cell_type": "markdown",
   "id": "0d84891a",
   "metadata": {},
   "source": [
    "# Inbalanced Tree"
   ]
  },
  {
   "cell_type": "code",
   "execution_count": null,
   "id": "e0914921",
   "metadata": {},
   "outputs": [],
   "source": [
    "# European Tree with step size specified\n",
    "\n",
    "inbalancedParams = TreeParams(2, np.nan, 1.2, 0.8)\n",
    "inbalancedEuropeanPricer = EuropeanTreePricer(europeanContract, model, inbalancedParams)\n",
    "inbalancedEuropeanPricer.calc_fair_value()"
   ]
  },
  {
   "cell_type": "code",
   "execution_count": null,
   "id": "a3026fab",
   "metadata": {},
   "outputs": [],
   "source": [
    "# American contract and Tree pricer\n",
    "\n",
    "inbalancedAmPricer = AmericanTreePricer(americanContract, model, inbalancedParams)\n",
    "inbalancedAmPricer.calc_fair_value()"
   ]
  },
  {
   "cell_type": "markdown",
   "id": "d05a5f02",
   "metadata": {},
   "source": [
    "### American call price != European call price, is it a bug?"
   ]
  },
  {
   "cell_type": "code",
   "execution_count": null,
   "id": "8c121d86",
   "metadata": {},
   "outputs": [],
   "source": []
  },
  {
   "cell_type": "code",
   "execution_count": null,
   "metadata": {},
   "outputs": [],
   "source": [
    "#import numpy as np\n",
    "\n",
    "def binomial_tree_pricer(option_type, S0, K, T, r, u, d, n):\n",
    "    \"\"\"\n",
    "    Prices an option using the binomial tree model.\n",
    "    \n",
    "    Parameters:\n",
    "    - option_type: 'call' or 'put'\n",
    "    - S0: Initial stock price\n",
    "    - K: Strike price\n",
    "    - T: Time to maturity (in years)\n",
    "    - r: Risk-free interest rate\n",
    "    - u: Factor by which the price goes up\n",
    "    - d: Factor by which the price goes down\n",
    "    - n: Number of steps in the tree\n",
    "    \"\"\"\n",
    "    dt = T / n  # time step\n",
    "    q = (np.exp(r * dt) - d) / (u - d)  # risk-neutral probability\n",
    "\n",
    "    # Price tree\n",
    "    price_tree = np.zeros((n + 1, n + 1))\n",
    "    for i in range(n + 1):\n",
    "        for j in range(i + 1):\n",
    "            price_tree[j, i] = S0 * (u ** j) * (d ** (i - j))\n",
    "\n",
    "    # Option value at maturity\n",
    "    option_tree = np.zeros((n + 1, n + 1))\n",
    "    for j in range(n + 1):\n",
    "        if option_type == \"call\":\n",
    "            option_tree[j, n] = max(0, price_tree[j, n] - K)\n",
    "        elif option_type == \"put\":\n",
    "            option_tree[j, n] = max(0, K - price_tree[j, n])\n",
    "\n",
    "    # Calculate option price at t=0\n",
    "    for i in range(n - 1, -1, -1):\n",
    "        for j in range(i + 1):\n",
    "            option_tree[j, i] = np.exp(-r * dt) * (q * option_tree[j, i + 1] + (1 - q) * option_tree[j + 1, i + 1])\n",
    "\n",
    "    return option_tree[0, 0]\n"
   ]
  },
  {
   "cell_type": "markdown",
   "metadata": {},
   "source": [
    "# HOMEWORK IMPLEMENTATION: Task \n",
    "# Calibrater for Tree"
   ]
  },
  {
   "cell_type": "code",
   "execution_count": null,
   "metadata": {},
   "outputs": [],
   "source": [
    "def calibrate_step_size(target_price, option_type, S0, K, T, r, n, tol=1e-3):\n",
    "    \"\"\"\n",
    "    Calibrates the step size for the binomial tree to match a target option price.\n",
    "\n",
    "    Parameters:\n",
    "    - target_price: The market price of the option\n",
    "    - option_type: 'call' or 'put'\n",
    "    - S0: Initial stock price\n",
    "    - K: Strike price\n",
    "    - T: Time to maturity (in years)\n",
    "    - r: Risk-free interest rate\n",
    "    - n: Number of steps in the tree\n",
    "    - tol: Tolerance for the price difference\n",
    "    \"\"\"\n",
    "    u = 1.0  # initial guess for up factor\n",
    "    increment = 0.05  # initial step size for searching\n",
    "\n",
    "    while True:\n",
    "        d = 1 / u  # down factor is inverse of up factor\n",
    "        price = binomial_tree_pricer(option_type, S0, K, T, r, u, d, n)\n",
    "        \n",
    "        if abs(price - target_price) < tol:\n",
    "            return u, d\n",
    "        elif price < target_price:\n",
    "            u += increment\n",
    "        else:\n",
    "            u -= increment\n",
    "            increment /= 2  # reducing increment to refine the search\n"
   ]
  },
  {
   "cell_type": "code",
   "execution_count": null,
   "metadata": {},
   "outputs": [],
   "source": [
    "#import numpy as np\n",
    "from scipy.optimize import minimize\n",
    "from scipy.stats import norm\n"
   ]
  },
  {
   "cell_type": "code",
   "execution_count": null,
   "metadata": {},
   "outputs": [],
   "source": [
    "def black_scholes_call(S, K, T, r, vol):\n",
    "    \"\"\"Calculate European call option price using Black-Scholes formula.\"\"\"\n",
    "    d1 = (np.log(S / K) + (r + 0.5 * vol ** 2) * T) / (vol * np.sqrt(T))\n",
    "    d2 = d1 - vol * np.sqrt(T)\n",
    "    call_price = S * norm.cdf(d1) - K * np.exp(-r * T) * norm.cdf(d2)\n",
    "    return call_price\n"
   ]
  },
  {
   "cell_type": "code",
   "execution_count": null,
   "metadata": {},
   "outputs": [],
   "source": [
    "def binomial_tree_call(S, K, T, r, vol, nr_steps):\n",
    "    \"\"\"\n",
    "    Calculate European call option price using a Balanced Binomial Tree.\n",
    "    \n",
    "    Parameters:\n",
    "    - S: Current stock price\n",
    "    - K: Strike price\n",
    "    - T: Time to maturity\n",
    "    - r: Risk-free interest rate\n",
    "    - vol: Volatility of the underlying asset\n",
    "    - nr_steps: Number of steps in the binomial tree\n",
    "    \"\"\"\n",
    "    dt = T / nr_steps  # Time step\n",
    "    u = np.exp(vol * np.sqrt(dt))  # Up factor\n",
    "    d = 1 / u  # Down factor\n",
    "    q = (np.exp(r * dt) - d) / (u - d)  # Risk-neutral probability\n",
    "\n",
    "    # Step 2: Construct the binomial tree\n",
    "    price_tree = np.zeros((nr_steps + 1, nr_steps + 1))\n",
    "    for i in range(nr_steps + 1):\n",
    "        for j in range(i + 1):\n",
    "            price_tree[j, i] = S * (u ** j) * (d ** (i - j))\n",
    "\n",
    "    # Step 3: Calculate option value at maturity\n",
    "    option_tree = np.zeros((nr_steps + 1, nr_steps + 1))\n",
    "    for j in range(nr_steps + 1):\n",
    "        option_tree[j, nr_steps] = max(0, price_tree[j, nr_steps] - K)\n",
    "\n",
    "    # Step 4: Backward induction to determine the option price at t=0\n",
    "    for i in range(nr_steps - 1, -1, -1):\n",
    "        for j in range(i + 1):\n",
    "            option_tree[j, i] = np.exp(-r * dt) * (q * option_tree[j, i + 1] + (1 - q) * option_tree[j + 1, i + 1])\n",
    "\n",
    "    return option_tree[0, 0]\n"
   ]
  },
  {
   "cell_type": "code",
   "execution_count": null,
   "metadata": {},
   "outputs": [],
   "source": [
    "def calibrate_vol(S, K, T, r, target_price, nr_steps):\n",
    "    \"\"\"\n",
    "    Calibrate the volatility for the BalancedBinomialTree model.\n",
    "    \n",
    "    Parameters:\n",
    "    - S: Current stock price\n",
    "    - K: Strike price\n",
    "    - T: Time to maturity\n",
    "    - r: Risk-free interest rate\n",
    "    - target_price: Target option price (from Black-Scholes)\n",
    "    - nr_steps: Number of steps in the binomial tree\n",
    "    \"\"\"\n",
    "    def objective(vol):\n",
    "        # Calculate the price difference between Black-Scholes and Binomial Tree\n",
    "        tree_price = binomial_tree_call(S, K, T, r, vol, nr_steps)\n",
    "        return (tree_price - target_price) ** 2\n",
    "\n",
    "    # Initial guess for volatility\n",
    "    vol_init = 0.2\n",
    "\n",
    "    result = minimize(objective, vol_init, method='Nelder-Mead')\n",
    "\n",
    "    if result.success:\n",
    "        return result.x[0]  # calibrated volatility\n",
    "    else:\n",
    "        raise ValueError(\"Calibration failed\")\n"
   ]
  },
  {
   "cell_type": "markdown",
   "metadata": {},
   "source": [
    "HOMEWORK IMPLEMENTATION : TASK TreePricer"
   ]
  },
  {
   "cell_type": "code",
   "execution_count": null,
   "metadata": {},
   "outputs": [],
   "source": [
    "def up_and_out_call_binomial_tree(S0, K, T, r, vol, barrier, nr_steps):\n",
    "    \"\"\"\n",
    "    Prices an up-and-out call option using a binomial tree.\n",
    "    \n",
    "    Parameters:\n",
    "    - S0: Initial stock price\n",
    "    - K: Strike price\n",
    "    - T: Time to maturity\n",
    "    - r: Risk-free interest rate\n",
    "    - vol: Volatility of the underlying asset\n",
    "    - barrier: Barrier level\n",
    "    - nr_steps: Number of steps in the tree\n",
    "    \"\"\"\n",
    "    dt = T / nr_steps  # Time step\n",
    "    u = np.exp(vol * np.sqrt(dt))  # Up factor\n",
    "    d = 1 / u  # Down factor\n",
    "    q = (np.exp(r * dt) - d) / (u - d)  # Risk-neutral probability\n",
    "\n",
    "    # Construct the price tree\n",
    "    price_tree = np.zeros((nr_steps + 1, nr_steps + 1))\n",
    "    for i in range(nr_steps + 1):\n",
    "        for j in range(i + 1):\n",
    "            price_tree[j, i] = S0 * (u ** j) * (d ** (i - j))\n",
    "            if price_tree[j, i] >= barrier:\n",
    "                price_tree[j, i] = 0  # Option becomes worthless if barrier is hit\n",
    "\n",
    "    # Option values at maturity\n",
    "    option_tree = np.zeros((nr_steps + 1, nr_steps + 1))\n",
    "    for j in range(nr_steps + 1):\n",
    "        option_tree[j, nr_steps] = max(0, price_tree[j, nr_steps] - K)\n",
    "\n",
    "    # Backward induction\n",
    "    for i in range(nr_steps - 1, -1, -1):\n",
    "        for j in range(i + 1):\n",
    "            option_tree[j, i] = np.exp(-r * dt) * (q * option_tree[j, i + 1] + (1 - q) * option_tree[j + 1, i + 1])\n",
    "            if price_tree[j, i] == 0:\n",
    "                option_tree[j, i] = 0  # Ensure option value is zero if barrier is hit\n",
    "\n",
    "    return option_tree[0, 0]\n"
   ]
  },
  {
   "cell_type": "code",
   "execution_count": null,
   "metadata": {},
   "outputs": [],
   "source": [
    "class UpAndOutCallTreePricer(TreePricer):\n",
    "    def __init__(self, tree_params, barrier):\n",
    "        super().__init__(tree_params)\n",
    "        self.barrier = barrier\n",
    "\n",
    "    def pre_final_value(self, S, K, r, dt, u, d, q):\n",
    "        # Creating an array to store the option values at the next time step\n",
    "        next_step_values = np.zeros(len(S))\n",
    "\n",
    "        # Iterate over each node in the current step\n",
    "        for i in range(len(S)):\n",
    "            up_price = S[i] * u\n",
    "            down_price = S[i] * d\n",
    "\n",
    "            # Check if the price breaches the barrier in either direction\n",
    "            if up_price >= self.barrier or down_price >= self.barrier:\n",
    "                # If the barrier is breached, the option value becomes zero\n",
    "                next_step_values[i] = 0\n",
    "            else:\n",
    "                # Calculate the option value using risk-neutral probabilities\n",
    "                up_value = max(0, up_price - K)\n",
    "                down_value = max(0, down_price - K)\n",
    "                next_step_values[i] = np.exp(-r * dt) * (q * up_value + (1 - q) * down_value)\n",
    "\n",
    "        return next_step_values\n"
   ]
  },
  {
   "cell_type": "code",
   "execution_count": null,
   "metadata": {},
   "outputs": [],
   "source": [
    "# Parameters\n",
    "S0 = 100  # Spot price\n",
    "K = S0    # Strike = spot\n",
    "T = 1     # Time to maturity = 1 year\n",
    "r = 0.05  # Risk-free interest rate\n",
    "vol = 0.2 # Volatility\n",
    "nr_steps = 252\n",
    "barrier_levels = [1.1 * S0, 1.2 * S0, 1.3 * S0]  # Different barrier levels\n",
    "\n",
    "# Comparing prices\n",
    "for barrier in barrier_levels:\n",
    "    tree_price = up_and_out_call_binomial_tree(S0, K, T, r, vol, barrier, nr_steps)\n",
    "    mc_price = # Monte Carlo simulation here\n",
    "    print(f\"Barrier: {barrier}, Tree Price: {tree_price}, MC Price: {mc_price}\")\n"
   ]
  }
 ],
 "metadata": {
  "kernelspec": {
   "display_name": "Python 3 (ipykernel)",
   "language": "python",
   "name": "python3"
  },
  "language_info": {
   "codemirror_mode": {
    "name": "ipython",
    "version": 3
   },
   "file_extension": ".py",
   "mimetype": "text/x-python",
   "name": "python",
   "nbconvert_exporter": "python",
   "pygments_lexer": "ipython3",
   "version": "3.9.0"
  }
 },
 "nbformat": 4,
 "nbformat_minor": 5
}
